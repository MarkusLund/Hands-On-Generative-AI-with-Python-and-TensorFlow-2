{
 "cells": [
  {
   "cell_type": "markdown",
   "metadata": {
    "id": "Ba4I-zORan_m"
   },
   "source": [
    "# MuseGAN: Polyphonic Music Generation\n",
    "In 2017, Dong et. al. presented a GAN type framework for multi-track music generation in their work titled [“MuseGAN: Multi-track Sequential Generative Adversarial Networks for Symbolic Music Generation and Accompaniment”](https://arxiv.org/abs/1709.06298)\n",
    "\n",
    "In this notebook, we will:\n",
    "+ Prepare a simplified set of generators for a 4 track MuseGAN\n",
    "+ Train MuseGAN using the [JSB Chorales dataset](https://github.com/czhuang/JSB-Chorales-dataset) presented by [Boulanger-Lewandowsk et. al.](http://www-etud.iro.umontreal.ca/~boulanni/icml2012) \n"
   ]
  },
  {
   "cell_type": "markdown",
   "metadata": {},
   "source": [
    "[![Open In Colab](https://colab.research.google.com/assets/colab-badge.svg)](https://colab.research.google.com/github/PacktPublishing/Hands-On-Generative-AI-with-Python-and-TensorFlow-2/blob/master/Chapter_10/musegan/musegan_simple.ipynb)"
   ]
  },
  {
   "cell_type": "markdown",
   "metadata": {
    "id": "JTEM7lzu3Qll"
   },
   "source": [
    "## Import Libraries"
   ]
  },
  {
   "cell_type": "code",
   "execution_count": 1,
   "metadata": {
    "id": "bNBke2vMalV8"
   },
   "outputs": [],
   "source": [
    "import tensorflow as tf\n",
    "from tensorflow.keras.initializers import RandomNormal\n",
    "tf.compat.v1.disable_eager_execution()"
   ]
  },
  {
   "cell_type": "code",
   "execution_count": 2,
   "metadata": {
    "id": "8CqeRgydauiq"
   },
   "outputs": [],
   "source": [
    "import os\n",
    "import numpy as np\n",
    "from music21 import converter\n",
    "import matplotlib.pyplot as plt"
   ]
  },
  {
   "cell_type": "code",
   "execution_count": 4,
   "metadata": {
    "id": "ouzZ0XLda01q"
   },
   "outputs": [],
   "source": [
    "from gan_utils import build_critic, build_generator, build_gan, train_musegan\n",
    "from gan_utils import load_music\n",
    "from gan_utils import notes_to_midi"
   ]
  },
  {
   "cell_type": "markdown",
   "metadata": {
    "id": "HSQIIx4P3S3O"
   },
   "source": [
    "## Setup Hyperparameters"
   ]
  },
  {
   "cell_type": "code",
   "execution_count": null,
   "metadata": {
    "id": "3Yd3TkCudpNR"
   },
   "outputs": [],
   "source": [
    "output_folder = 'outputs'\n",
    "os.mkdir(output_folder)"
   ]
  },
  {
   "cell_type": "code",
   "execution_count": 6,
   "metadata": {
    "id": "3ZKjL63HbJOu"
   },
   "outputs": [],
   "source": [
    "weight_init = RandomNormal(mean=0., stddev=0.02)\n",
    "batch_size = 128\n",
    "n_bars = 2\n",
    "n_steps_per_bar = 16\n",
    "n_pitches = 84\n",
    "n_tracks = 4\n",
    "grad_weight = 10\n",
    "z_dim = 32\n",
    "epochs = 1000\n",
    "sampling_frequency = 10\n",
    "n_critic = 5\n",
    "use_gen = False"
   ]
  },
  {
   "cell_type": "markdown",
   "metadata": {
    "id": "AGzph03f3WHt"
   },
   "source": [
    "## Get Dataset"
   ]
  },
  {
   "cell_type": "code",
   "execution_count": 7,
   "metadata": {
    "colab": {
     "base_uri": "https://localhost:8080/"
    },
    "id": "E1SZwJ3kflmc",
    "outputId": "2e75cb19-306b-4c65-bdb1-5003fe4ded02"
   },
   "outputs": [
    {
     "name": "stdout",
     "output_type": "stream",
     "text": [
      "fatal: destination path 'JSB-Chorales-dataset' already exists and is not an empty directory.\n"
     ]
    }
   ],
   "source": [
    "# get music from this repo\n",
    "!git clone https://github.com/czhuang/JSB-Chorales-dataset.git"
   ]
  },
  {
   "cell_type": "code",
   "execution_count": 8,
   "metadata": {
    "id": "fimEN88Lczd0"
   },
   "outputs": [],
   "source": [
    "# load data\n",
    "data_path = \"JSB-Chorales-dataset/Jsb16thSeparated.npz\"\n",
    "encoded_scores = load_music(data_path, n_bars, n_steps_per_bar)\n",
    "encoded_scores = np.squeeze(encoded_scores)"
   ]
  },
  {
   "cell_type": "code",
   "execution_count": 11,
   "metadata": {
    "colab": {
     "base_uri": "https://localhost:8080/"
    },
    "id": "Qe6BqVSFiGqW",
    "outputId": "c60fddc3-92bf-4ac2-9f85-f8fa202b877c"
   },
   "outputs": [
    {
     "data": {
      "text/plain": [
       "(2, 16, 84, 4)"
      ]
     },
     "execution_count": 11,
     "metadata": {
      "tags": []
     },
     "output_type": "execute_result"
    }
   ],
   "source": [
    "input_dim = encoded_scores.shape[1:]\n",
    "input_dim"
   ]
  },
  {
   "cell_type": "markdown",
   "metadata": {
    "id": "uk4LQ8lr3ZOG"
   },
   "source": [
    "## Prepare Model Objects\n",
    "\n",
    "+ Critic\n",
    "+ Generator\n",
    "+ GAN"
   ]
  },
  {
   "cell_type": "code",
   "execution_count": 12,
   "metadata": {
    "id": "DXGnhgMNbJHJ"
   },
   "outputs": [],
   "source": [
    "critic = build_critic(input_dim, weight_init, n_bars)"
   ]
  },
  {
   "cell_type": "code",
   "execution_count": 13,
   "metadata": {
    "id": "xttbBiRXc67N"
   },
   "outputs": [],
   "source": [
    "gen_model = build_generator(z_dim,\n",
    "                    n_tracks,\n",
    "                    n_bars,\n",
    "                    n_steps_per_bar,\n",
    "                    n_pitches,\n",
    "                    weight_init)"
   ]
  },
  {
   "cell_type": "code",
   "execution_count": 14,
   "metadata": {
    "id": "J0j-ZFtqdBwT"
   },
   "outputs": [],
   "source": [
    "critic_model, gan_model = build_gan(gen_model,\n",
    "                                    critic,\n",
    "                                    input_dim,\n",
    "                                    z_dim,\n",
    "                                    n_tracks,\n",
    "                                    batch_size,\n",
    "                                    grad_weight)"
   ]
  },
  {
   "cell_type": "markdown",
   "metadata": {
    "id": "6xhNUWc53eaa"
   },
   "source": [
    "## Train MuseGAN"
   ]
  },
  {
   "cell_type": "code",
   "execution_count": null,
   "metadata": {
    "colab": {
     "base_uri": "https://localhost:8080/"
    },
    "id": "2uud6xfgdMxQ",
    "outputId": "ceea2331-2c85-4cbb-9e49-998e5b5cd8df"
   },
   "outputs": [],
   "source": [
    "d_losses, g_losses = train_musegan(encoded_scores,\n",
    "                                    critic_model,\n",
    "                                    gen_model,\n",
    "                                    gan_model,\n",
    "                                    z_dim,\n",
    "                                    n_tracks,\n",
    "                                    n_bars,\n",
    "                                    n_steps_per_bar,\n",
    "                                    batch_size,\n",
    "                                    epochs,\n",
    "                                    output_folder,\n",
    "                                    sampling_frequency,\n",
    "                                    n_critic,\n",
    "                                    use_gen=use_gen)"
   ]
  },
  {
   "cell_type": "markdown",
   "metadata": {
    "id": "A3Vctlqt3lqU"
   },
   "source": [
    "## Visualize Training Progress"
   ]
  },
  {
   "cell_type": "code",
   "execution_count": null,
   "metadata": {
    "colab": {
     "base_uri": "https://localhost:8080/",
     "height": 278
    },
    "id": "e73-MXTggP2T",
    "outputId": "b8dacb53-a162-489a-dc1c-284760ff19bf"
   },
   "outputs": [],
   "source": [
    "fig = plt.figure()\n",
    "plt.plot([x[0] for x in d_losses])\n",
    "plt.plot([x[1] for x in d_losses])\n",
    "plt.plot([x[2] for x in d_losses])\n",
    "plt.plot(g_losses)\n",
    "plt.xlabel('epoch')\n",
    "plt.ylabel('loss')\n",
    "\n",
    "plt.xlim(0, len(d_losses))\n",
    "plt.show()"
   ]
  },
  {
   "cell_type": "markdown",
   "metadata": {
    "id": "8xTnqOasgvqE"
   },
   "source": [
    "## Generate Some Music !!!"
   ]
  },
  {
   "cell_type": "code",
   "execution_count": 17,
   "metadata": {
    "id": "Bittqw2AgtKf"
   },
   "outputs": [],
   "source": [
    "track1_noise = np.random.normal(0, 1, (1, z_dim))\n",
    "track2_noise = np.random.normal(0, 1, (1, z_dim))\n",
    "track3_noise = np.random.normal(0, 1, (1, n_tracks, z_dim))\n",
    "track4_noise = np.random.normal(0, 1, (1, n_tracks, z_dim))"
   ]
  },
  {
   "cell_type": "code",
   "execution_count": 20,
   "metadata": {
    "id": "j0hS7fUVg4sN"
   },
   "outputs": [],
   "source": [
    "gen_scores = gen_model.predict([track1_noise, \n",
    "                                    track2_noise, \n",
    "                                    track3_noise, \n",
    "                                    track4_noise])"
   ]
  },
  {
   "cell_type": "code",
   "execution_count": 21,
   "metadata": {
    "id": "pdjaVZwJhJxt"
   },
   "outputs": [],
   "source": [
    "inference_id = \"musegan\"\n",
    "notes_to_midi(n_bars,\n",
    "              n_steps_per_bar,\n",
    "              n_tracks,\n",
    "              inference_id,\n",
    "              output_folder,\n",
    "              gen_scores)"
   ]
  },
  {
   "cell_type": "code",
   "execution_count": null,
   "metadata": {
    "colab": {
     "base_uri": "https://localhost:8080/"
    },
    "id": "Tpk30OVThVOq",
    "outputId": "5a9b493f-a059-43db-e3c4-c5f932d6f0c4"
   },
   "outputs": [],
   "source": [
    "gen_score = converter.parse(os.path.join(output_folder, 'sample_musegan_0.midi'))\n",
    "gen_score.show('text')"
   ]
  },
  {
   "cell_type": "code",
   "execution_count": null,
   "metadata": {
    "id": "y--xLMkfoiQq"
   },
   "outputs": [],
   "source": []
  }
 ],
 "metadata": {
  "accelerator": "GPU",
  "colab": {
   "collapsed_sections": [],
   "name": "musegan_simple.ipynb",
   "provenance": [],
   "toc_visible": true
  },
  "kernelspec": {
   "display_name": "Python 3",
   "language": "python",
   "name": "python3"
  },
  "language_info": {
   "codemirror_mode": {
    "name": "ipython",
    "version": 3
   },
   "file_extension": ".py",
   "mimetype": "text/x-python",
   "name": "python",
   "nbconvert_exporter": "python",
   "pygments_lexer": "ipython3",
   "version": "3.7.6"
  }
 },
 "nbformat": 4,
 "nbformat_minor": 1
}
